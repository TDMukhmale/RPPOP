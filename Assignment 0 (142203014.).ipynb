{
 "cells": [
  {
   "cell_type": "code",
   "execution_count": 1,
   "id": "f523a298",
   "metadata": {},
   "outputs": [
    {
     "name": "stdout",
     "output_type": "stream",
     "text": [
      "The area of the rectangle is: 60\n",
      "The perimeter of the rectangle is: 38\n",
      "Changed side parameters:\n",
      "The dimensions of the rectangle are: (8, 14)\n",
      "The area of the square is: 49\n",
      "The perimeter of the square is: 28\n",
      "The dimensions of the square are: (6, 6)\n"
     ]
    }
   ],
   "source": [
    "class Polygon:\n",
    "    def __init__(self, sides):\n",
    "        self.sides = sides\n",
    "    \n",
    "    def perimeter(self):\n",
    "        return sum(self.sides)\n",
    "    \n",
    "    def num_sides(self):\n",
    "        return len(self.sides)\n",
    "\n",
    "\n",
    "class Rectangle(Polygon):\n",
    "    def __init__(self, width, height):\n",
    "        super().__init__([width, height, width, height])\n",
    "    \n",
    "    def area(self):\n",
    "        return self.sides[0] * self.sides[1]\n",
    "    \n",
    "    def change_dimensions(self, new_width, new_height):\n",
    "        print(\"Changed side parameters:\")\n",
    "        self.sides = [new_width, new_height, new_width, new_height]\n",
    "    \n",
    "    def report_dimensions(self):\n",
    "        return (self.sides[0], self.sides[1])\n",
    "\n",
    "\n",
    "class Square(Rectangle):\n",
    "    def __init__(self, side):\n",
    "        super().__init__(side, side)\n",
    "    \n",
    "    def area(self):\n",
    "        return self.sides[0] ** 2\n",
    "    \n",
    "    def change_dimensions(self, new_side):\n",
    "        self.sides = [new_side, new_side]\n",
    "    \n",
    "    def report_dimensions(self):\n",
    "        return (self.sides[0], self.sides[0])\n",
    "\n",
    "\n",
    "r = Rectangle(4, 15)\n",
    "print(\"The area of the rectangle is:\", r.area())  \n",
    "print(\"The perimeter of the rectangle is:\", r.perimeter()) \n",
    "\n",
    "r.change_dimensions(8,14 )\n",
    "print(\"The dimensions of the rectangle are:\", r.report_dimensions()) \n",
    "\n",
    "s = Square(7)\n",
    "print(\"The area of the square is:\", s.area())\n",
    "print(\"The perimeter of the square is:\", s.perimeter())  \n",
    "s.change_dimensions(6)\n",
    "print(\"The dimensions of the square are:\", s.report_dimensions()) "
   ]
  },
  {
   "cell_type": "code",
   "execution_count": null,
   "id": "d7fbac24",
   "metadata": {},
   "outputs": [],
   "source": []
  }
 ],
 "metadata": {
  "kernelspec": {
   "display_name": "Python 3 (ipykernel)",
   "language": "python",
   "name": "python3"
  },
  "language_info": {
   "codemirror_mode": {
    "name": "ipython",
    "version": 3
   },
   "file_extension": ".py",
   "mimetype": "text/x-python",
   "name": "python",
   "nbconvert_exporter": "python",
   "pygments_lexer": "ipython3",
   "version": "3.9.13"
  }
 },
 "nbformat": 4,
 "nbformat_minor": 5
}
